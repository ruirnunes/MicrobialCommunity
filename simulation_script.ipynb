{
 "cells": [
  {
   "cell_type": "markdown",
   "metadata": {},
   "source": [
    "## Import organism models"
   ]
  },
  {
   "cell_type": "code",
   "execution_count": null,
   "metadata": {
    "scrolled": false
   },
   "outputs": [],
   "source": [
    "from cobra.io import read_sbml_model\n",
    "\n",
    "from mewpy.simulation import get_simulator\n",
    "import mewpy as mewpy\n",
    "\n",
    "\n",
    "mewpy.simulation.set_default_solver('cplex')\n",
    "\n",
    "model_acaldus = read_sbml_model('./Acidithiobacillus_caldus_SM-1/Curated/Acaldus.xml')\n",
    "model_aferroxidans = read_sbml_model('./Acidimicrobium_ferrooxidans_DSM_10331/Curated/Aferrooxidans.xml')\n",
    "\n",
    "model_acaldus_draft = read_sbml_model('./Acidithiobacillus_caldus_SM-1/Draft/Acaldus_draft.xml')\n",
    "model_aferroxidans_draft = read_sbml_model('./Acidimicrobium_ferrooxidans_DSM_10331/Draft/Aferrooxidans_draft.xml')"
   ]
  },
  {
   "cell_type": "markdown",
   "metadata": {},
   "source": [
    "## Verify several characteristics of the models "
   ]
  },
  {
   "cell_type": "markdown",
   "metadata": {},
   "source": [
    "### Check number of metabolites and unique metabolites of the draft models"
   ]
  },
  {
   "cell_type": "code",
   "execution_count": null,
   "metadata": {},
   "outputs": [],
   "source": [
    "metabolites_ac = []\n",
    "metabolites_af = []\n",
    "\n",
    "unique_met_ac = []\n",
    "unique_met_af = []\n",
    "\n",
    "for met in model_acaldus_draft.metabolites:\n",
    "    metabolites_ac.append(str(met))\n",
    "    \n",
    "for meta in model_aferroxidans_draft.metabolites:\n",
    "    metabolites_af.append(str(meta))\n",
    "    \n",
    "print('acaldus draft model total metabolites: ' + str(len(metabolites_ac)))\n",
    "print('aferrooxidans draft model total metabolites: ' + str(len(metabolites_af)))\n",
    "\n",
    "for met in metabolites_ac:\n",
    "    if met not in metabolites_af:\n",
    "        unique_met_ac.append(met)\n",
    "        \n",
    "for meta in metabolites_af:\n",
    "    if meta not in metabolites_ac:\n",
    "        unique_met_af.append(meta)\n",
    "        \n",
    "print('acaldus draft model unique metabolites: ' + str(len(unique_met_ac)))\n",
    "print('aferrooxidans draft model unique metabolites: ' + str(len(unique_met_af)))\n"
   ]
  },
  {
   "cell_type": "markdown",
   "metadata": {},
   "source": [
    "### Check number of metabolites and unique metabolites of the curated models"
   ]
  },
  {
   "cell_type": "code",
   "execution_count": null,
   "metadata": {
    "scrolled": true
   },
   "outputs": [],
   "source": [
    "metabolites_ac = []\n",
    "metabolites_af = []\n",
    "\n",
    "met_ac_n_af = []\n",
    "met_af_n_ac = []\n",
    "\n",
    "for met in model_acaldus.metabolites:\n",
    "    metabolites_ac.append(str(met))\n",
    "    \n",
    "for meta in model_aferroxidans.metabolites:\n",
    "    metabolites_af.append(str(meta))\n",
    "    \n",
    "print('acaldus model total metabolites: ' + str(len(metabolites_ac)))\n",
    "print('aferrooxidans model total metabolites: ' + str(len(metabolites_af)))\n",
    "\n",
    "for met in metabolites_ac:\n",
    "    if met not in metabolites_af:\n",
    "        met_ac_n_af.append(met)\n",
    "        \n",
    "for meta in metabolites_af:\n",
    "    if meta not in metabolites_ac:\n",
    "        met_af_n_ac.append(meta)\n",
    "        \n",
    "print('acaldus model unique metabolites: ' + str(len(met_ac_n_af)))\n",
    "print('aferrooxidans model unique metabolites: ' + str(len(met_af_n_ac)))\n",
    "\n"
   ]
  },
  {
   "cell_type": "markdown",
   "metadata": {},
   "source": [
    "### Check number of pathways in the models"
   ]
  },
  {
   "cell_type": "code",
   "execution_count": null,
   "metadata": {
    "scrolled": true
   },
   "outputs": [],
   "source": [
    "print('acaldus pathways: ' + str(len(model_acaldus.groups)))\n",
    "print('aferrooxidans pathways:' , len(model_aferroxidans.groups))\n",
    "print('acaldus draft pathways:' , len(model_acaldus_draft.groups))\n",
    "print('aferrooxidans draft pathways:' , len(model_aferroxidans_draft.groups))"
   ]
  },
  {
   "cell_type": "markdown",
   "metadata": {},
   "source": [
    "### Check number of reactions and unique reactions in the curated models"
   ]
  },
  {
   "cell_type": "code",
   "execution_count": null,
   "metadata": {
    "scrolled": true
   },
   "outputs": [],
   "source": [
    "reactions_ac = []\n",
    "reactions_af = []\n",
    "\n",
    "for reac in model_acaldus.reactions:\n",
    "    reactions_ac.append(str(reac.id))\n",
    "    \n",
    "for reac in model_aferroxidans.reactions:\n",
    "    reactions_af.append(str(reac.id))\n",
    "    \n",
    "print('acaldus model total reactions: ' + str(len(reactions_ac)))\n",
    "print('aferrooxidans model total reactions: ' + str(len(reactions_af)))   \n",
    "\n",
    "\n",
    "unique_reac_ac = []\n",
    "unique_reac_af = []\n",
    "\n",
    "for reac in reactions_ac:\n",
    "    if reac not in reactions_af:\n",
    "        unique_reac_ac.append(reac)\n",
    "        \n",
    "for reac in reactions_af:\n",
    "    if reac not in reactions_ac:\n",
    "        unique_reac_af.append(reac)\n",
    "        \n",
    "print('acaldus model unique reactions: ' + str(len(unique_reac_ac)))\n",
    "print('aferrooxidans model unique reactions: ' + str(len(unique_reac_af)))"
   ]
  },
  {
   "cell_type": "markdown",
   "metadata": {},
   "source": [
    "### Check number of reactions and unique reactions in the draft models"
   ]
  },
  {
   "cell_type": "code",
   "execution_count": null,
   "metadata": {
    "scrolled": true
   },
   "outputs": [],
   "source": [
    "reactions_ac = []\n",
    "reactions_af = []\n",
    "\n",
    "for reac in model_acaldus_draft.reactions:\n",
    "    reactions_ac.append(str(reac.id))\n",
    "    \n",
    "for reac in model_aferroxidans_draft.reactions:\n",
    "    reactions_af.append(str(reac.id))\n",
    "    \n",
    "print('acaldus draft model total reactions: ' + str(len(reactions_ac)))\n",
    "print('aferrooxidans draft model total reactions: ' + str(len(reactions_af)))   \n",
    "\n",
    "\n",
    "unique_reac_ac = []\n",
    "unique_reac_af = []\n",
    "\n",
    "for reac in reactions_ac:\n",
    "    if reac not in reactions_af:\n",
    "        unique_reac_ac.append(reac)\n",
    "        \n",
    "for reac in reactions_af:\n",
    "    if reac not in reactions_ac:\n",
    "        unique_reac_af.append(reac)\n",
    "        \n",
    "print('acaldus draft model unique reactions: ' + str(len(unique_reac_ac)))\n",
    "print('aferrooxidans draft model unique reactions: ' + str(len(unique_reac_af)))"
   ]
  },
  {
   "cell_type": "markdown",
   "metadata": {},
   "source": [
    "### Check number of drains in the models"
   ]
  },
  {
   "cell_type": "code",
   "execution_count": null,
   "metadata": {
    "scrolled": false
   },
   "outputs": [],
   "source": [
    "for pathway in model_acaldus.groups:\n",
    "    if pathway.name == \"Drains pathway\":\n",
    "        print('Drains in acaldus model', len(pathway.members))\n",
    "        \n",
    "for pathway in model_aferroxidans.groups:\n",
    "    if pathway.name == \"Drains pathway\":\n",
    "        print('Drains in aferrooxidans model', len(pathway.members))\n",
    "        \n",
    "for pathway in model_acaldus_draft.groups:\n",
    "    if pathway.name == \"Drains pathway\":\n",
    "        print('Drains in acaldus draft model', len(pathway.members))\n",
    "        \n",
    "for pathway in model_aferroxidans_draft.groups:\n",
    "    if pathway.name == \"Drains pathway\":\n",
    "        print('Drains in aferrooxidans draft model', len(pathway.members))\n",
    "        \n"
   ]
  },
  {
   "cell_type": "markdown",
   "metadata": {},
   "source": [
    "### Check number of transporters in the models "
   ]
  },
  {
   "cell_type": "code",
   "execution_count": null,
   "metadata": {
    "scrolled": true
   },
   "outputs": [],
   "source": [
    "for pathway in model_acaldus.groups:\n",
    "    if pathway.name == \"Transporters pathway\":\n",
    "        print('Transporters in acaldus model', len(pathway.members))\n",
    "        \n",
    "for pathway in model_aferroxidans.groups:\n",
    "    if pathway.name == \"Transporters pathway\":\n",
    "        print('Transporters in aferrooxidans model', len(pathway.members))\n",
    "        \n",
    "for pathway in model_acaldus_draft.groups:\n",
    "    if pathway.name == \"Transporters pathway\":\n",
    "        print('Transporters in acaldus draft model', len(pathway.members))\n",
    "        \n",
    "for pathway in model_aferroxidans_draft.groups:\n",
    "    if pathway.name == \"Transporters pathway\":\n",
    "        print('Transporters in aferrooxidans draft model', len(pathway.members))\n",
    "        "
   ]
  },
  {
   "cell_type": "markdown",
   "metadata": {},
   "source": [
    "### Check direction and type of transporters "
   ]
  },
  {
   "cell_type": "code",
   "execution_count": null,
   "metadata": {
    "scrolled": true
   },
   "outputs": [],
   "source": [
    "transport = []\n",
    "\n",
    "\n",
    "for pathway in model_acaldus.groups:\n",
    "    if pathway.name == \"Transporters pathway\":\n",
    "        for transporter in pathway.members:\n",
    "            transport.append(transporter.id)\n",
    "\n",
    "# for i in transport:\n",
    "#     if 'CYTMEM' not in i:\n",
    "#         for pathway in model_aferroxidans.groups:\n",
    "#             if pathway.name == \"Transporters pathway\":\n",
    "#                 for transporter in pathway.members:\n",
    "#                     if transporter.id == i: \n",
    "#                          print(transporter)\n",
    "\n",
    "# for i in transport:\n",
    "#      if 'CYTMEM' in i:\n",
    "#             tra = i\n",
    "#             tra = tra.split('_')[0]\n",
    "#             print(tra)\n",
    "\n",
    "info_trans = []\n",
    "\n",
    "for trans in transport:\n",
    "    if 'CYTMEM' in trans:\n",
    "        if trans[1] == 'R':\n",
    "            direction = 'Reversible'\n",
    "        if trans[1] == 'I':\n",
    "            direction = 'In to out'\n",
    "        if trans[1] == 'O':\n",
    "            direction = 'Out to in'\n",
    "        if trans[1] == 'Z':\n",
    "            direction = 'Default'\n",
    "        if trans[2] == '0':\n",
    "            trans_type = 'Uniport'\n",
    "        if trans[2] == '1':\n",
    "            trans_type = 'Symport'\n",
    "        if trans[2] == '2':\n",
    "            trans_type = 'Antiport'\n",
    "        if trans[2] == '3':\n",
    "            trans_type = 'ABC'\n",
    "        if trans[2] == '4':\n",
    "            trans_type = 'PTS'\n",
    "        if trans[2] == '5':\n",
    "            trans_type = 'Cofactor'\n",
    "        if trans[2] == '6':\n",
    "            trans_type = 'Redox'\n",
    "        if trans[2] == '9':\n",
    "            trans_type = 'Default'\n",
    "        tupple = (trans, direction, trans_type)\n",
    "        info_trans.append(tupple)\n",
    "\n",
    "direction_count = {}\n",
    "trans_type_count = {}\n",
    "for i in info_trans:\n",
    "    direction_count[i[1]] = direction_count.get(i[1], 0) + 1\n",
    "    trans_type_count[i[2]] = trans_type_count.get(i[2], 0) + 1\n",
    "\n",
    "print(direction_count)\n",
    "print(trans_type_count)"
   ]
  },
  {
   "cell_type": "markdown",
   "metadata": {},
   "source": [
    "### Check GPRs"
   ]
  },
  {
   "cell_type": "code",
   "execution_count": null,
   "metadata": {
    "scrolled": true
   },
   "outputs": [],
   "source": [
    "import re\n",
    "\n",
    "genes = []\n",
    "\n",
    "complex_pro = 0\n",
    "promisc = 0\n",
    "isoenz = 0\n",
    "gpr = 0\n",
    "no_rule = 0\n",
    "one_gene=0\n",
    "count = 0\n",
    "\n",
    "\n",
    "for reac in model_acaldus.reactions:\n",
    "    count += 1\n",
    "#     if 'Atc' in reac.gene_reaction_rule:\n",
    "    if len(reac.gene_reaction_rule) > 0:\n",
    "#         for i in re.findall('Afer_[0-9]{4}',reac.gene_reaction_rule):\n",
    "#         print(re.split('Atc_[0-9]{4}|Atc_m[0-9]{3}|Atc_[0-9]p[0-9]{2}',reac.gene_reaction_rule))\n",
    "        for i in re.findall('Atc_[0-9]{4}|Atc_m[0-9]{3}|Atc_[0-9]p[0-9]{2}',reac.gene_reaction_rule):\n",
    "            genes.append(i)\n",
    "        if 'and' in reac.gene_reaction_rule:\n",
    "            complex_pro += 1\n",
    "        if 'or' in reac.gene_reaction_rule:\n",
    "            isoenz += 1\n",
    "    else:\n",
    "        no_rule += 1\n",
    "\n",
    "        \n",
    "\n",
    "\n",
    "dic = {}\n",
    "\n",
    "for i in genes:\n",
    "    dic[i] = dic.get(i, 0) + 1\n",
    "\n",
    "x = 0\n",
    "for key, value in dic.items():\n",
    "    x += value\n",
    "    if value > 1:\n",
    "        promisc += 1\n",
    "        \n",
    "\n",
    "for reac in model_acaldus.reactions:\n",
    "    if len(reac.gene_reaction_rule) == 8:\n",
    "#     if len(reac.gene_reaction_rule) == 9:\n",
    "        if dic[reac.gene_reaction_rule] == 1:\n",
    "            gpr += 1\n",
    "        \n",
    "        \n",
    "       \n",
    "        \n",
    "total = gpr + complex_pro + promisc + isoenz + no_rule\n",
    "\n",
    "print(len(genes))\n",
    "print('')\n",
    "print(x)\n",
    "print('')\n",
    "print('gpr: ' + str(gpr), '| complex_pro: ' + str(complex_pro), '| promisc: ' + str(promisc), '| isoenz: ' + str(isoenz))\n",
    "print('')\n",
    "print('Total: ' + str(total), '| No rule: ' + str(no_rule), '| Count: ' + str(count))"
   ]
  },
  {
   "cell_type": "markdown",
   "metadata": {},
   "source": [
    "## Simulation of the model"
   ]
  },
  {
   "cell_type": "markdown",
   "metadata": {},
   "source": [
    "### Close all drains"
   ]
  },
  {
   "cell_type": "code",
   "execution_count": null,
   "metadata": {
    "scrolled": true
   },
   "outputs": [],
   "source": [
    "# reactions_in_pathway = model_acaldus.groups.get_by_id(\"g1\").members\n",
    "reactions_in_pathway = model_aferroxidans.groups.get_by_id(\"g1\").members\n",
    "\n",
    "for reac in reactions_in_pathway:\n",
    "    reac.bounds = (0 , 1000)\n",
    "    print(reac.id, reac.bounds)\n"
   ]
  },
  {
   "cell_type": "markdown",
   "metadata": {},
   "source": [
    "### Implement an environmental condition and save the model"
   ]
  },
  {
   "cell_type": "code",
   "execution_count": null,
   "metadata": {
    "scrolled": false
   },
   "outputs": [],
   "source": [
    "#This is used for model validation purposes through external software i.e. memote and frog analysis\n",
    "\n",
    "import cobra\n",
    "\n",
    "# reactions_in_pathway = model_acaldus.groups.get_by_id(\"g1\").members\n",
    "reactions_in_pathway = model_aferroxidans.groups.get_by_id(\"g1\").members\n",
    "\n",
    "acaldus_env = {'EX_C00007__extr': (-1000,1000.0),# -1.039\n",
    "               'EX_C00009__extr':(-1000,1000),\n",
    "               'EX_C00011__extr':(-0.7106,1000),#-0.7106\n",
    "               'EX_C14818__extr':(-1000,1000),\n",
    "               'EX_C00014__extr':(-1000,1000),\n",
    "               'EX_C00087__extr':(-1000,1000),#-1.807}\n",
    "               'Drain_H20__extr':(-1000,1000)}\n",
    "\n",
    "aferrooxidans_env = {'Drain_Oxigen_C00007__extr': (-1000.0, 1000.0),\n",
    "                     'EX_C00009__extr':(-1000,1000),\n",
    "                     'EX_C00011__extr':(-0.7106,1000),\n",
    "                     'EX_C00059__extr':(-1000,1000),\n",
    "                     'EX_C14818__extr':(-1000,1000),\n",
    "                     'EX_C00014__extr':(-1000,1000),\n",
    "                     'Drain_C00001__extr':(-1000,1000)}#'EX_C11481__extr':(-1000,1000),\n",
    "\n",
    "\n",
    "# for reac in reactions_in_pathway:\n",
    "#     reac.bounds = (0 , 1000)\n",
    "#     for i in acaldus_env.keys():\n",
    "#         if reac.id == i:\n",
    "#             reac.bounds = acaldus_env[i]\n",
    "#     if reac.lower_bound != 0:\n",
    "#         print(reac.id, reac.bounds)\n",
    "\n",
    "for reac in reactions_in_pathway:\n",
    "    for i in aferrooxidans_env.keys():\n",
    "        if reac.id == i:\n",
    "            reac.bounds = aferrooxidans_env[i]\n",
    "    if reac.lower_bound != 0:\n",
    "        print(reac.id, reac.bounds)\n",
    "        \n",
    "# cobra.io.write_sbml_model(model_acaldus, \"acaldus_env.xml\")\n",
    "# cobra.io.write_sbml_model(model_aferroxidans, \"Aferroxidans_env.xml\")"
   ]
  },
  {
   "cell_type": "markdown",
   "metadata": {},
   "source": [
    "### Choose an environmental condition to simulate the model"
   ]
  },
  {
   "cell_type": "code",
   "execution_count": null,
   "metadata": {},
   "outputs": [],
   "source": [
    "from mewpy.simulation import get_simulator\n",
    "\n",
    "\n",
    "envcond_acaldus_autotrophic = {'EX_C00007__extr': (-1000,1000.0),# -1.039\n",
    "                               'EX_C00009__extr':(-1000,1000),\n",
    "                               'EX_C00011__extr':(-0.7106,1000),#-0.7106\n",
    "                               'EX_C14818__extr':(-1000,1000),\n",
    "                               'EX_C00014__extr':(-1000,1000),\n",
    "                               'EX_C00087__extr':(-1000,1000),#-1.807}\n",
    "                               'Drain_H20__extr':(-1000,1000)}\n",
    "\n",
    "envcond_acaldus_autotrophic1 = {'EX_C00007__extr': (-1000,1000.0),# -1.039\n",
    "                               'EX_C00009__extr':(-1000,1000),\n",
    "                               'EX_C00011__extr':(-0.7106,1000),#-0.7106\n",
    "                               'EX_C14818__extr':(-1000,1000),\n",
    "                               'EX_C00014__extr':(-1000,1000),\n",
    "                               'EX_C02084__extr':(-1000,1000),#-1.807\n",
    "                                'Drain_H20__extr':(-1000,1000)}\n",
    "\n",
    "\n",
    "envcond_acaldus_mixotrophic = {'EX_C00007__extr': (-1000,1000.0),# -1.039\n",
    "                                'EX_C00009__extr':(-1000,1000),\n",
    "                                'EX_C00267__extr':(-0.4438,1000),\n",
    "                                'EX_C14818__extr':(-1000,1000),\n",
    "                                'EX_C00014__extr':(-1000,1000),\n",
    "                                'EX_C02084__extr':(-1000,1000),#-1.807\n",
    "                                'EX_C00011__extr':(-0.7106,1000), #-0.7106\n",
    "                                'Drain_H20__extr':(-1000,1000)}\n",
    "\n",
    "envcond_acaldus_anaerobic = {'EX_C00009__extr':(-1000,1000),\n",
    "                            'EX_C00011__extr':(-71.06,1000),#-0.7106\n",
    "                            'EX_C00059__extr':(-1000,1000),\n",
    "                            'EX_C14818__extr':(-1000,1000),\n",
    "                            'EX_C00014__extr':(-1000,1000),\n",
    "                            #'EX_C00244__extr':(-1000,1000),\n",
    "                            'EX_C00087__extr':(-1000,1000),#-1.807\n",
    "                            'Drain_C00282__extr':(-1000,1000)}\n",
    "\n",
    "envcond_aferrooxidans_autotrophic = {'Drain_Oxigen_C00007__extr': (-1000.0, 1000.0),\n",
    "                                    'EX_C00009__extr':(-1000,1000),\n",
    "                                    'EX_C00011__extr':(-0.7106,1000),\n",
    "                                    'EX_C00059__extr':(-1000,1000),\n",
    "                                    'EX_C14818__extr':(-1000,1000),\n",
    "                                    'EX_C00014__extr':(-1000,1000),\n",
    "                                    'Drain_C00001__extr':(-1000,1000)}#'EX_C11481__extr':(-1000,1000),\n",
    "\n",
    "envcond_aferrooxidans_anaerobic = {'EX_C00009__extr':(-1000,1000),\n",
    "                                    'EX_C00011__extr':(-0.7106,1000),\n",
    "                                    'EX_C00059__extr':(-1000,1000),\n",
    "                                    'EX_C14819__extr':(-1000,1000),\n",
    "                                    'EX_C00014__extr':(-1000,1000),\n",
    "                                    'Drain_C00001__extr':(-1000,1000)}\n",
    "\n",
    "simul = get_simulator(model_aferroxidans,envcond=envcond_aferrooxidans_autotrophic)\n",
    "# simul = get_simulator(model_acaldus,envcond=envcond_acaldus_autotrophic)"
   ]
  },
  {
   "cell_type": "markdown",
   "metadata": {},
   "source": [
    "### Check open drains"
   ]
  },
  {
   "cell_type": "code",
   "execution_count": null,
   "metadata": {
    "scrolled": true
   },
   "outputs": [],
   "source": [
    "import pandas as pd\n",
    "\n",
    "\n",
    "reactions_in_pathway = model_aferroxidans.groups.get_by_id(\"g1\").members\n",
    "#reactions_in_pathway = model_acaldus.groups.get_by_id(\"g1\").members\n",
    "\n",
    "dic = {}\n",
    "\n",
    "for reac in reactions_in_pathway:\n",
    "    metabolites = reac.metabolites.keys()\n",
    "    bounds = simul.get_reaction_bounds(reac.id)\n",
    "    for met in metabolites:\n",
    "        if bounds[0] != 0.0:\n",
    "            dic['R_' + str(reac.id)]= (met.id, met.name, met.formula, simul.get_reaction_bounds(reac.id)[0])\n",
    "    \n",
    "x = pd.DataFrame.from_dict(dic, orient='index', columns=['Metabolite id','Metabolite Name', 'Metabolite Formula','Lower Bound'])\n",
    "\n",
    "x.index.name = 'Reaction id'\n",
    "\n",
    "#x.to_csv('acaldus_mixotrophic.csv')\n",
    "\n",
    "x"
   ]
  },
  {
   "cell_type": "markdown",
   "metadata": {},
   "source": [
    "### Simulate the model and check value for objective function"
   ]
  },
  {
   "cell_type": "code",
   "execution_count": null,
   "metadata": {
    "scrolled": true
   },
   "outputs": [],
   "source": [
    "\n",
    "simul.objective = 'e_Biomass__cytop'\n",
    "result = simul.simulate(method='pFBA')\n",
    "result.fluxes[\"e_Biomass__cytop\"]\n",
    "# result.fluxes[\"e_Biomass_anaerobic__cytop\"]\n",
    "\n",
    "\n",
    "# Flux Balance Analysis: method = 'FBA'\n",
    "# Parsimonious FBA:method = 'pFBA'\n",
    "# Minimization of Metabolic Adjustment:method = 'MOMA'\n",
    "# Linear MOMA: method = 'lMOMA'\n",
    "# Regulatory on/off minimization of metabolic flux: method = 'ROOM'"
   ]
  },
  {
   "cell_type": "markdown",
   "metadata": {},
   "source": [
    "### Check import and export rates "
   ]
  },
  {
   "cell_type": "code",
   "execution_count": null,
   "metadata": {
    "scrolled": false
   },
   "outputs": [],
   "source": [
    "import pandas as pd\n",
    "from IPython.display import display_html\n",
    "from itertools import chain,cycle\n",
    "\n",
    "\n",
    "def display_side_by_side(*args,titles=cycle([''])):\n",
    "    html_str=''\n",
    "    for df,title in zip(args, chain(titles,cycle(['</br>'])) ):\n",
    "        html_str+='<th style=\"text-align:center\"><td style=\"vertical-align:top\">'\n",
    "        html_str+=f'<h2>{title}</h2>'\n",
    "        html_str+=df.to_html().replace('table','table style=\"display:inline\"')\n",
    "        html_str+='</td></th>'\n",
    "    display_html(html_str,raw=True)\n",
    "\n",
    "\n",
    "\n",
    "reactions_in_pathway = model_aferroxidans.groups.get_by_id(\"g1\").members\n",
    "# reactions_in_pathway = model_acaldus.groups.get_by_id(\"g1\").members\n",
    "\n",
    "\n",
    "dic_upt = {}\n",
    "dic_exp = {}\n",
    "\n",
    "for reac in reactions_in_pathway:\n",
    "    metabolites = reac.metabolites.keys()\n",
    "    for met in metabolites:\n",
    "        if result.fluxes[str(reac.id)] < 0: \n",
    "            dic_upt[\"R_\" + str(reac.id)]= (met.id, met.name, met.formula, round(result.fluxes[str(reac.id)],5))\n",
    "        if result.fluxes[str(reac.id)] > 0:\n",
    "            dic_exp[\"R_\" + str(reac.id)]= (met.id, met.name, met.formula, round(result.fluxes[str(reac.id)],5))\n",
    "    \n",
    "uptake = pd.DataFrame.from_dict(dic_upt, orient='index', columns=['Metabolite id', 'Name', 'Formula','Flux'])\n",
    "export = pd.DataFrame.from_dict(dic_exp, orient='index', columns=['Metabolite id', 'Name', 'Formula','Flux'])\n",
    "\n",
    "uptake.index.name = 'Reaction id'\n",
    "\n",
    "\n",
    "#uptake.to_csv('uptake_mixotrophic.csv')\n",
    "#export.to_csv('export_mixotrophic.csv')\n",
    "\n",
    "display_side_by_side(uptake,export, titles=['Uptake','Export'])"
   ]
  },
  {
   "cell_type": "markdown",
   "metadata": {},
   "source": [
    "### Check pathways' id"
   ]
  },
  {
   "cell_type": "code",
   "execution_count": null,
   "metadata": {
    "scrolled": true
   },
   "outputs": [],
   "source": [
    "\n",
    "dic= {}\n",
    "\n",
    "for i in range(1,len(model_aferroxidans.groups)):\n",
    "    dic[\"g\"+str(i)]= model_aferroxidans.groups.get_by_id(\"g\"+str(i)).name\n",
    "    #dic[\"g\"+str(i)]= model_acaldus.groups.get_by_id(\"g\"+str(i)).name\n",
    "\n",
    "pathways = pd.DataFrame.from_dict(dic, orient='index', columns=['Name'])\n",
    "\n",
    "df1 = pathways.iloc[:14,:]\n",
    "df2 = pathways.iloc[14:28,:]\n",
    "df3 = pathways.iloc[28:42,:]\n",
    "df4 = pathways.iloc[42:56,:]\n",
    "df5 = pathways.iloc[56:70,:]\n",
    "df6 = pathways.iloc[70:,:]\n",
    "\n",
    "display_side_by_side(df1,df2,df3)\n",
    "display_side_by_side(df4,df5,df6)\n"
   ]
  },
  {
   "cell_type": "markdown",
   "metadata": {},
   "source": [
    "### Check flux value for reactions in a specific pathway"
   ]
  },
  {
   "cell_type": "code",
   "execution_count": null,
   "metadata": {
    "scrolled": true
   },
   "outputs": [],
   "source": [
    "#verificar fluxos numa via\n",
    "\n",
    "\n",
    "reactions_in_pathway = model_aferroxidans.groups.get_by_id(\"g84\").members\n",
    "#reactions_in_pathway_sul = model_aferroxidans1.groups.get_by_id(\"g45\").members\n",
    "\n",
    "# reactions_in_pathway_oxi = model_aferroxidans.groups.get_by_id(\"g71\").members\n",
    "# reactions_in_pathway_gly = model_aferroxidans.groups.get_by_id(\"g21\").members\n",
    "# reactions_in_pathway_cal = model_aferroxidans.groups.get_by_id(\"g74\").members\n",
    "# reactions_in_pathway_sta = model_aferroxidans.groups.get_by_id(\"g19\").members\n",
    "# reactions_in_pathway_pen = model_aferroxidans.groups.get_by_id(\"g85\").members\n",
    "\n",
    "dic = {}\n",
    "\n",
    "for reac in reactions_in_pathway:\n",
    "    dic[str(reac.id)]= result.fluxes[str(reac.id)]\n",
    "\n",
    "df = pd.DataFrame.from_dict(dic, orient='index', columns=['Flux'])\n",
    "\n",
    "df = df.sort_values(by=['Flux'])\n",
    "\n",
    "df\n",
    "# reactions_in_pathway_sul = model_acaldus.groups.get_by_id(\"g45\").members\n",
    "# reactions_in_pathway_oxi = model_acaldus.groups.get_by_id(\"g78\").members\n",
    "# reactions_in_pathway_gly = model_acaldus.groups.get_by_id(\"g19\").members\n",
    "# reactions_in_pathway_cal = model_acaldus.groups.get_by_id(\"g67\").members\n",
    "# reactions_in_pathway_sta = model_acaldus.groups.get_by_id(\"g17\").members\n",
    "# reactions_in_pathway_pen = model_acaldus.groups.get_by_id(\"g76\").members\n",
    "\n",
    "\n",
    "# dic_sul = {}\n",
    "# dic_oxi = {}\n",
    "# dic_gly = {}\n",
    "# dic_cal = {}\n",
    "# dic_sta = {}\n",
    "# dic_pen = {}\n",
    "\n",
    "\n",
    "# for reac in reactions_in_pathway_sul:\n",
    "#     dic_sul[str(reac.id)]= result.fluxes[str(reac.id)]\n",
    "\n",
    "# for reac in reactions_in_pathway_oxi:\n",
    "#     dic_oxi[str(reac.id)]= result.fluxes[str(reac.id)]\n",
    "    \n",
    "# for reac in reactions_in_pathway_gly:\n",
    "#     dic_gly[str(reac.id)]= result.fluxes[str(reac.id)]\n",
    "    \n",
    "# for reac in reactions_in_pathway_cal:\n",
    "#     dic_cal[str(reac.id)]= result.fluxes[str(reac.id)]\n",
    "    \n",
    "# for reac in reactions_in_pathway_sta:\n",
    "#     dic_sta[str(reac.id)]= result.fluxes[str(reac.id)]\n",
    "    \n",
    "# for reac in reactions_in_pathway_pen:\n",
    "#     dic_pen[str(reac.id)]= result.fluxes[str(reac.id)]\n",
    "\n",
    "# sulfur = pd.DataFrame.from_dict(dic_sul, orient='index', columns=['Flux'])\n",
    "# oxidative = pd.DataFrame.from_dict(dic_oxi, orient='index', columns=['Flux'])\n",
    "# glycolysis = pd.DataFrame.from_dict(dic_gly, orient='index', columns=['Flux'])\n",
    "# calvin = pd.DataFrame.from_dict(dic_cal, orient='index', columns=['Flux'])\n",
    "# starch = pd.DataFrame.from_dict(dic_sta, orient='index', columns=['Flux'])\n",
    "# pentose = pd.DataFrame.from_dict(dic_pen, orient='index', columns=['Flux'])\n",
    "\n",
    "# glycolysis = glycolysis.sort_values(by=['Flux'])\n",
    "# calvin = calvin.sort_values(by=['Flux'])\n",
    "# starch = starch.sort_values(by=['Flux'])\n",
    "# pentose = pentose.sort_values(by=['Flux'])\n",
    "# sulfur = sulfur.sort_values(by=['Flux'])\n",
    "# oxidative = oxidative.sort_values(by=['Flux'])\n",
    "\n",
    "\n",
    "# display_side_by_side(glycolysis, calvin, starch, pentose, oxidative,  titles = ['glycolysis','calvin','starch','pentose','oxidative phosphorilation'])\n"
   ]
  },
  {
   "cell_type": "markdown",
   "metadata": {},
   "source": [
    "### Add further constraints to the simulation and check objective function value"
   ]
  },
  {
   "cell_type": "code",
   "execution_count": null,
   "metadata": {
    "scrolled": true
   },
   "outputs": [],
   "source": [
    "constraints = {'R00771__cytop': (0, 0)}\n",
    "result = simul.simulate(method='pFBA',constraints=constraints)\n",
    "result.fluxes[\"e_Biomass__cytop\"]"
   ]
  },
  {
   "cell_type": "markdown",
   "metadata": {},
   "source": [
    "### Exclusive disjunction  of reactions with flux value different from zero between two simulations"
   ]
  },
  {
   "cell_type": "code",
   "execution_count": null,
   "metadata": {},
   "outputs": [],
   "source": [
    "\n",
    "\n",
    "\n",
    "flux_o = []\n",
    "\n",
    "for reac in result.fluxes:\n",
    "    if result.fluxes[str(reac)] != 0 : \n",
    "        flux_o.append(reac)\n",
    "\n",
    "len(flux_o)        "
   ]
  },
  {
   "cell_type": "code",
   "execution_count": null,
   "metadata": {},
   "outputs": [],
   "source": [
    "flux_e = []\n",
    "\n",
    "for reac in result.fluxes:\n",
    "    if result.fluxes[str(reac)] != 0 : \n",
    "        flux_e.append(reac)\n",
    "\n",
    "len(flux_e)"
   ]
  },
  {
   "cell_type": "code",
   "execution_count": null,
   "metadata": {
    "scrolled": true
   },
   "outputs": [],
   "source": [
    "flux_oe=[]\n",
    "flux_eo=[]\n",
    "\n",
    "for reac in flux_o:\n",
    "    if reac not in flux_e:\n",
    "        flux_oe.append(reac)\n",
    "\n",
    "for reac in flux_e:\n",
    "    if reac not in flux_o:\n",
    "        flux_eo.append(reac)\n",
    "        \n",
    "print(flux_oe)\n",
    "print(flux_eo)\n"
   ]
  },
  {
   "cell_type": "markdown",
   "metadata": {},
   "source": [
    "### Check essential reactions"
   ]
  },
  {
   "cell_type": "code",
   "execution_count": null,
   "metadata": {
    "scrolled": true
   },
   "outputs": [],
   "source": [
    "\n",
    "essential_reactions = simul.essential_reactions()\n",
    "essential_reactions"
   ]
  },
  {
   "cell_type": "markdown",
   "metadata": {},
   "source": [
    "### Block a reaction if it is not an essential reaction"
   ]
  },
  {
   "cell_type": "code",
   "execution_count": null,
   "metadata": {},
   "outputs": [],
   "source": [
    "\n",
    "reac = ['R02740__cytop']\n",
    "\n",
    "constraints={}\n",
    "\n",
    "for i in reac:\n",
    "    if i not in essential_reactions:\n",
    "        constraints[i]= (0,0)\n",
    "\n",
    "print(constraints)\n",
    "\n",
    "result = simul.simulate(method='pFBA',constraints=constraints)\n",
    "result.fluxes[\"R00082__cytop\"]"
   ]
  },
  {
   "cell_type": "markdown",
   "metadata": {},
   "source": [
    "### Perform an FVA analysis on a given reaction"
   ]
  },
  {
   "cell_type": "code",
   "execution_count": null,
   "metadata": {},
   "outputs": [],
   "source": [
    "# returns a dictionary\n",
    "simul.FVA(reactions=['e_Biomass_anaerobic__cytop'])\n",
    "\n",
    "# or a data frame\n",
    "#simul.FVA(reactions=['EX_tyr__L_e'],format='df')"
   ]
  }
 ],
 "metadata": {
  "kernelspec": {
   "display_name": "Python 3",
   "language": "python",
   "name": "python3"
  },
  "language_info": {
   "codemirror_mode": {
    "name": "ipython",
    "version": 3
   },
   "file_extension": ".py",
   "mimetype": "text/x-python",
   "name": "python",
   "nbconvert_exporter": "python",
   "pygments_lexer": "ipython3",
   "version": "3.8.11"
  }
 },
 "nbformat": 4,
 "nbformat_minor": 2
}
